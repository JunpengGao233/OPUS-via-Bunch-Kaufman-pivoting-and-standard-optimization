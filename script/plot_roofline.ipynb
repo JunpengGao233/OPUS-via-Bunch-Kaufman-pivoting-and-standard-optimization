{
 "cells": [
  {
   "cell_type": "code",
   "execution_count": 1,
   "metadata": {},
   "outputs": [],
   "source": [
    "import matplotlib.pyplot as plt\n",
    "import numpy as np\n",
    "from matplotlib.lines import Line2D  "
   ]
  },
  {
   "cell_type": "code",
   "execution_count": 2,
   "metadata": {},
   "outputs": [],
   "source": [
    "def log2(x):\n",
    "    print(x)\n",
    "    res = np.log(x) / np.log(2)\n",
    "    print(res)\n",
    "    return np.log(x) / np.log(2)"
   ]
  },
  {
   "cell_type": "code",
   "execution_count": 3,
   "metadata": {},
   "outputs": [],
   "source": [
    "intensity_bound = 1\n",
    "scalar_peak_performance = 4\n",
    "scalar_peak_performance = 16\n"
   ]
  },
  {
   "cell_type": "code",
   "execution_count": 5,
   "metadata": {},
   "outputs": [],
   "source": [
    "intensity_bound = 40\n",
    "scalar_peak_performance = 4.5\n",
    "vector_peak_performance = 18.0\n",
    "operational_intensity = 14.0\n"
   ]
  },
  {
   "cell_type": "code",
   "execution_count": null,
   "metadata": {},
   "outputs": [],
   "source": [
    "intensity_bound = 1\n",
    "scalar_peak_performance = 4\n",
    "scalar_peak_performance = 16\n",
    "# operational_intensity = (9928 * 2**30) / "
   ]
  },
  {
   "cell_type": "code",
   "execution_count": 8,
   "metadata": {},
   "outputs": [
    {
     "data": {
      "image/png": "[encoded data removed]",
      "text/plain": [
       "<Figure size 800x560 with 1 Axes>"
      ]
     },
     "metadata": {
      "needs_background": "light"
     },
     "output_type": "display_data"
    }
   ],
   "source": [
    "\n",
    "plt.figure(figsize=(10,7), dpi= 80)\n",
    "x = np.linspace(0, intensity_bound, 10000)\n",
    "\n",
    "interval0 = [1 if (i < scalar_peak_performance/operational_intensity) else 0 for i in x ] \n",
    "interval1 = [1 if (i >= scalar_peak_performance/operational_intensity) else 0 for i in x]\n",
    "y0 = (operational_intensity * x) * interval0 +  (np.ones(x.shape) * scalar_peak_performance)* interval1\n",
    "\n",
    "interval0 = [1 if (i < vector_peak_performance/operational_intensity) else 0 for i in x ] \n",
    "interval1 = [1 if (i >= vector_peak_performance/operational_intensity) else 0 for i in x]\n",
    "y1 = (operational_intensity * x) * interval0 +  (np.ones(x.shape) * vector_peak_performance)* interval1\n",
    "\n",
    "# a\n",
    "p1, = plt.plot(x, y0, '-', color = 'black', label='Scalar roofline')\n",
    "p2, = plt.plot(x, y1, '--', color = 'black', label='Vector roofline')\n",
    "\n",
    "# plt.annotate(\"4.5\", xy=(scalar_peak_performance/operational_intensity, scalar_peak_performance), xytext=(0.0015, scalar_peak_performance - 0.2), xycoords=\"data\",\n",
    "#              arrowprops={\"arrowstyle\":\"-\", \"linestyle\":\"--\"})\n",
    "\n",
    "# plt.annotate(\"18\", xy=(vector_peak_performance/operational_intensity,vector_peak_performance), xytext=(0.0015, vector_peak_performance  - 0.4), xycoords=\"data\",\n",
    "#              arrowprops={\"arrowstyle\":\"-\", \"linestyle\":\"--\"})\n",
    "\n",
    "# plt.annotate(\"4.5/14\", xy=(scalar_peak_performance/operational_intensity, scalar_peak_performance), xytext=(scalar_peak_performance/operational_intensity - 0.075, 0.03), xycoords=\"data\",\n",
    "#              arrowprops={\"arrowstyle\":\"-\", \"linestyle\":\"--\"})\n",
    "# plt.annotate(\"18/14\", xy=(vector_peak_performance/operational_intensity,vector_peak_performance), xytext=(vector_peak_performance/operational_intensity - 0.2, 0.03), xycoords=\"data\",\n",
    "#              arrowprops={\"arrowstyle\":\"-\", \"linestyle\":\"--\"})\n",
    "\n",
    "# b\n",
    "# p3, = plt.plot(0.25, 16.0 / 7.0, '^', color = 'black', markerfacecolor = 'black', label = 'comp1 (b)')\n",
    "# p4, = plt.plot(0.25, 3.5, 's', color = 'black', markerfacecolor = 'black', label = 'comp2 (b)')\n",
    "# p5, = plt.plot(1.0 / 3.0, 16.0 / 7.0, '^', color = 'black', markerfacecolor = 'white', label = 'comp1 (c)')\n",
    "# p6, = plt.plot(1.0 / 3.0, 4, 's', color = 'black', markerfacecolor = 'white', label = 'comp2 (c)')\n",
    "# p7, = plt.plot(1.0 / 12.0,  7.0 / 6.0, '^', color = 'black', markerfacecolor = 'grey', label = 'comp1 (e)')\n",
    "# p8, = plt.plot(1.0 / 12.0,  7.0 / 6.0, 's', color = 'black', markerfacecolor = 'grey', label = 'comp2 (e)')\n",
    "\n",
    "\n",
    "plt.xlabel('I = W/Q (flops/byte)')\n",
    "plt.ylabel('P = W/T (flops/cycle)')\n",
    "plt.title('Roofline Plot')\n",
    "plt.xscale('log', base = 2) \n",
    "plt.yscale('log', base = 2) \n",
    "# plt.legend(handles=[p1, p2, p3, p4, p5, p6, p7, p8], title='legend', bbox_to_anchor=(1.05, 1), loc='upper left')\n",
    "# plt.savefig('plt.png', dpi=300)\n",
    "plt.show()"
   ]
  }
 ],
 "metadata": {
  "interpreter": {
   "hash": "ded932cdc51dc62a1649b45c46886321b785d7143a6c100ecd30fb6c1149d7bc"
  },
  "kernelspec": {
   "display_name": "Python 3.8.12 ('aml_project')",
   "language": "python",
   "name": "python3"
  },
  "language_info": {
   "codemirror_mode": {
    "name": "ipython",
    "version": 3
   },
   "file_extension": ".py",
   "mimetype": "text/x-python",
   "name": "python",
   "nbconvert_exporter": "python",
   "pygments_lexer": "ipython3",
   "version": "3.8.12"
  },
  "orig_nbformat": 4
 },
 "nbformat": 4,
 "nbformat_minor": 2
}
